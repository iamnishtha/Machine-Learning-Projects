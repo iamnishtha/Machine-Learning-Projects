{
 "cells": [
  {
   "cell_type": "markdown",
   "metadata": {},
   "source": [
    "# Water Jug Problem\n",
    "### Using memoization and recursion\n",
    "\n",
    "At any point, there can be a total of six possibilities:\n",
    "\n",
    "1. Empty the first jug completely\n",
    "2. Empty the second jug completely\n",
    "3. Fill the first jug\n",
    "4. Fill the second jug\n",
    "5. Fill the water from the second jug into the first jug until the first jug is full or the second jug has no water left\n",
    "6. Fill the water from the first jug into the second jug until the second jug is full or the first jug has no water left\n",
    "\n",
    "### Approach: \n",
    "\n",
    "Using Recursion, visit all the six possible moves one by one until one of them returns True. Since there can be repetitions of same recursive calls, hence every return value is stored using memoization to avoid calling the recursive function again and returning the stored value."
   ]
  },
  {
   "cell_type": "code",
   "execution_count": 2,
   "metadata": {},
   "outputs": [],
   "source": [
    "# This function is used to initialize the  \n",
    "# dictionary elements with a default value. \n",
    "from collections import defaultdict "
   ]
  },
  {
   "cell_type": "code",
   "execution_count": 3,
   "metadata": {},
   "outputs": [],
   "source": [
    "# jug1 and jug2 contain the value  \n",
    "# for max capacity in respective jugs  \n",
    "# and aim is the amount of water to be measured.  \n",
    "jug1, jug2, aim = 4, 3, 2"
   ]
  },
  {
   "cell_type": "code",
   "execution_count": 4,
   "metadata": {},
   "outputs": [],
   "source": [
    "# Initialize dictionary with  \n",
    "# default value as false. \n",
    "visited = defaultdict(lambda: False)"
   ]
  },
  {
   "cell_type": "code",
   "execution_count": 9,
   "metadata": {},
   "outputs": [],
   "source": [
    "# Recursive function which prints the intermediate steps to reach the final solution and return boolean value  \n",
    "# (True if solution is possible, otherwise False). \n",
    "# amt1 and amt2 are the amount of water present in both jugs at a certain point of time. \n",
    "\n",
    "def waterJugSolver(amt1, amt2):  \n",
    "  \n",
    "    # Checks for our goal and returns true if achieved. \n",
    "    \n",
    "    if (amt1 == aim and amt2 == 0) or (amt2 == aim and amt1 == 0): \n",
    "        print(amt1, amt2) \n",
    "        return True\n",
    "      \n",
    "    # Checks if we have already visited the combination or not. If not, then it proceeds further. \n",
    "    \n",
    "    if visited[(amt1, amt2)] == False: \n",
    "        print(amt1, amt2) \n",
    "      \n",
    "        # Changes the boolean value of the combination as it is visited.  \n",
    "        visited[(amt1, amt2)] = True\n",
    "      \n",
    "        # Check for all the 6 possibilities and see if a solution is found in any one of them. \n",
    "        \n",
    "        return (waterJugSolver(0, amt2) or\n",
    "                waterJugSolver(amt1, 0) or\n",
    "                waterJugSolver(jug1, amt2) or\n",
    "                waterJugSolver(amt1, jug2) or\n",
    "                waterJugSolver(amt1 + min(amt2, (jug1-amt1)), \n",
    "                amt2 - min(amt2, (jug1-amt1))) or\n",
    "                waterJugSolver(amt1 - min(amt1, (jug2-amt2)), \n",
    "                amt2 + min(amt1, (jug2-amt2)))) \n",
    "      \n",
    "    #Return False if the combination is already visited to avoid repetition else recursion will go to an infinite loop. \n",
    "    \n",
    "    else: \n",
    "        return False"
   ]
  },
  {
   "cell_type": "code",
   "execution_count": 6,
   "metadata": {},
   "outputs": [
    {
     "name": "stdout",
     "output_type": "stream",
     "text": [
      "Steps: \n",
      "0 0\n",
      "4 0\n",
      "4 3\n",
      "0 3\n",
      "3 0\n",
      "3 3\n",
      "4 2\n",
      "0 2\n"
     ]
    },
    {
     "data": {
      "text/plain": [
       "True"
      ]
     },
     "execution_count": 6,
     "metadata": {},
     "output_type": "execute_result"
    }
   ],
   "source": [
    "print(\"Steps: \") \n",
    "  \n",
    "# Call the function and pass the \n",
    "# initial amount of water present in both jugs. \n",
    "waterJugSolver(0, 0) "
   ]
  },
  {
   "cell_type": "code",
   "execution_count": 7,
   "metadata": {},
   "outputs": [],
   "source": [
    "def pour(jug1, jug2): \n",
    "\n",
    "    max1, max2, fill = 3, 4, 2  #Change maximum capacity and final capacity \n",
    "\n",
    "    print(\"%d\\t%d\" % (jug1, jug2)) \n",
    "\n",
    "    if jug2 == fill: \n",
    "\n",
    "        return \n",
    "\n",
    "    elif jug2 == max2: \n",
    "\n",
    "        pour(0, jug1) \n",
    "\n",
    "    elif jug1 != 0 and jug2 == 0: \n",
    "\n",
    "        pour(0, jug1) \n",
    "\n",
    "    elif jug1 == fill: \n",
    "\n",
    "        pour(jug1, 0) \n",
    "\n",
    "    elif jug1 < max1: \n",
    "\n",
    "        pour(max1, jug2) \n",
    "\n",
    "    elif jug1 < (max2-jug2): \n",
    "\n",
    "        pour(0, (jug1+jug2)) \n",
    "\n",
    "    else: \n",
    "\n",
    "        pour(jug1-(max2-jug2), (max2-jug2)+jug2) "
   ]
  },
  {
   "cell_type": "code",
   "execution_count": 8,
   "metadata": {},
   "outputs": [
    {
     "name": "stdout",
     "output_type": "stream",
     "text": [
      "JUG1\tJUG2\n",
      "0\t0\n",
      "3\t0\n",
      "0\t3\n",
      "3\t3\n",
      "2\t4\n",
      "0\t2\n"
     ]
    }
   ],
   "source": [
    "print(\"JUG1\\tJUG2\") \n",
    "\n",
    "pour(0, 0) "
   ]
  },
  {
   "cell_type": "markdown",
   "metadata": {},
   "source": [
    "# Water Jug problem using BFS\n",
    "\n",
    "Determine the path from initial state (xi, yi) to final state (xf, yf), where (xi, yi) is (0, 0) which indicates both Jugs are initially empty and (xf, yf) indicates a state which could be (0, d) or (d, 0).\n",
    "\n",
    "The operations you can perform are:\n",
    "\n",
    "1. Empty a Jug, (X, Y)->(0, Y) Empty Jug 1\n",
    "2. Fill a Jug, (0, 0)->(X, 0) Fill Jug 1\n",
    "3. Pour water from one jug to the other until one of the jugs is either empty or full, (X, Y) -> (X-d, Y+d)"
   ]
  },
  {
   "cell_type": "markdown",
   "metadata": {},
   "source": [
    "### Production Rules:\n",
    "\n",
    "1. (x, y) -> (a, y) if x < a\n",
    "2. (x, y) -> (x, b) if y < b\n",
    "3. (x, y) -> (0, y) if x > 0\n",
    "4. (x, y) -> (x, 0) if y > 0\n",
    "5. (x, y) -> (min(x+y, a), max(0, x+y - a)) if y > 0\n",
    "6. (x, y) -> (max(0, x+y - b), min(x+y, b)) if x > 0\n",
    "\n",
    "These production rules are used to find the neighbouring states from the current states.\n",
    "The Algorithm goes like this:\n",
    "\n",
    "1. Create an empty path list.\n",
    "2. Add start state to the front queue.\n",
    "3. Mark it visited by adding it in visited list.\n",
    "4. While front is not empty, follow the steps(4 - 6) below.\n",
    "5. Pop out a state from front and call it current.Add current to path list.\n",
    "6. Expand all it's neighbours following the production rules.\n",
    "7. If the neighbours are not in visited , then add them to visited list and also add them to the front queue.\n",
    "8. return path."
   ]
  },
  {
   "cell_type": "code",
   "execution_count": 86,
   "metadata": {},
   "outputs": [],
   "source": [
    "capacity=(8,5,3)\n",
    "x = capacity[0]\n",
    "y = capacity[1]\n",
    "z = capacity[2]\n",
    "\n",
    "#funtion to check if goal state is attained\n",
    "def goal(s):\n",
    "    if(s[0]==4 or s[1]==4):\n",
    "        return True\n",
    "    return False"
   ]
  },
  {
   "cell_type": "code",
   "execution_count": 87,
   "metadata": {},
   "outputs": [],
   "source": [
    "#dictionary to maintain parent of each node\n",
    "parent={}"
   ]
  },
  {
   "cell_type": "code",
   "execution_count": 88,
   "metadata": {},
   "outputs": [],
   "source": [
    "#list to append next state of each node\n",
    "L=[]\n",
    "def next_states2(state):\n",
    "    a = state[0]\n",
    "    b = state[1]\n",
    "    c = state[2]\n",
    "    if(a>0):\n",
    "      #empty a into b\n",
    "        if(a+b>y):\n",
    "            L.append((a-(y-b),y,c))\n",
    "            \n",
    "        else:\n",
    "            L.append((0,a+b,c))\n",
    "      #empty a into c\n",
    "        if(a+c>z):\n",
    "            L.append((a-(z-c),b,z))\n",
    "        else:\n",
    "            L.append((0,b,a+c))\n",
    "  #empty jug b\n",
    "    if(b>0):\n",
    "      #empty b into a\n",
    "        if(a+b>x):\n",
    "            L.append((x, b-(x-a), c))\n",
    "        else:\n",
    "            L.append((a+b, 0, c))\n",
    "            \n",
    "      #empty b into c\n",
    "        if(b+c>z):\n",
    "            L.append((a, 0, b+c))\n",
    "        else:\n",
    "            L.append((a, b-(z-c), z))\n",
    "  #empty jug c\n",
    "    if(c>0):\n",
    "      #empty c into a\n",
    "        if(a+c>x):\n",
    "            L.append((x, b, c-(x-a)))\n",
    "        else:\n",
    "            L.append((a+c, b, 0))\n",
    "            \n",
    "        if(b+c>y):\n",
    "            L.append((a, y, c-(y-b)))\n",
    "        else:\n",
    "            L.append((a, b+c, 0))\n",
    "            \n",
    "    return L"
   ]
  },
  {
   "cell_type": "code",
   "execution_count": 89,
   "metadata": {},
   "outputs": [],
   "source": [
    "def path(s,p):\n",
    "    if(s!=initial_state):\n",
    "        p.append(parent[s])\n",
    "        path(parent[s],p)\n",
    "        return p"
   ]
  },
  {
   "cell_type": "code",
   "execution_count": 90,
   "metadata": {},
   "outputs": [],
   "source": [
    "def bfs(state):\n",
    "    p=[]\n",
    "    q=[]\n",
    "    q.append(state)\n",
    "    visited=[]\n",
    "    while(len(q)!=0):\n",
    "        s=q.pop(0)\n",
    "        if(goal(s)):\n",
    "            p=path(s,p)\n",
    "            for e in reversed(p):\n",
    "                print(e)\n",
    "            print(s,'\\n\\n')\n",
    "            break\n",
    "        lis=next_states2(s)\n",
    "        for i in lis:\n",
    "            if(i not in visited and i not in parent.values()):\n",
    "                visited.append(i)\n",
    "                q.append(i)\n",
    "                parent[i]=s"
   ]
  },
  {
   "cell_type": "code",
   "execution_count": 92,
   "metadata": {},
   "outputs": [
    {
     "name": "stdout",
     "output_type": "stream",
     "text": [
      "(8, 0, 0)\n",
      "(5, 0, 3)\n",
      "(5, 3, 0)\n",
      "(2, 3, 3)\n",
      "(2, 5, 1)\n",
      "(7, 0, 1)\n",
      "(7, 1, 0)\n",
      "(4, 1, 3) \n",
      "\n",
      "\n"
     ]
    }
   ],
   "source": [
    "initial_state = (8,0,0)\n",
    "bfs(initial_state)"
   ]
  },
  {
   "cell_type": "code",
   "execution_count": 70,
   "metadata": {},
   "outputs": [
    {
     "name": "stdout",
     "output_type": "stream",
     "text": [
      "Solution for water jug problem\n",
      "Enter Jug 1 capacity:4\n",
      "Enter Jug 2 capacity:3\n",
      "Enter target volume:2\n"
     ]
    }
   ],
   "source": [
    "# Water-Jug solution using Breadth First Search Algorithm\n",
    "\n",
    "print (\"Solution for water jug problem\")\n",
    "x_capacity = input(\"Enter Jug 1 capacity:\")\n",
    "y_capacity = input(\"Enter Jug 2 capacity:\")\n",
    "end = input(\"Enter target volume:\")"
   ]
  },
  {
   "cell_type": "code",
   "execution_count": 75,
   "metadata": {},
   "outputs": [],
   "source": [
    "def bfs(start, end, x_capacity, y_capacity):\n",
    "    path = []\n",
    "    front = []\n",
    "    front.append(start)\n",
    "    visited = []\n",
    "\n",
    "    #visited.append(start)\n",
    "    while(not (not front)):\n",
    "        current = front.pop()\n",
    "        x = current[0]\n",
    "        y = current[1]\n",
    "        path.append(current)\n",
    "        if x == end or y == end:\n",
    "            print (\"Found!\")\n",
    "            return path\n",
    "        # rule 1\n",
    "        if current[0] < x_capacity and ([x_capacity, current[1]] not in visited):\n",
    "            front.append([x_capacity, current[1]])\n",
    "            visited.append([x_capacity, current[1]])\n",
    "\n",
    "        # rule 2\n",
    "        if current[1] < y_capacity and ([current[0], y_capacity] not in visited):\n",
    "            front.append([current[0], y_capacity])\n",
    "            visited.append([current[0], y_capacity])\n",
    "\n",
    "        # rule 3\n",
    "        if current[0] > x_capacity and ([0, current[1]] not in visited):\n",
    "            front.append([0, current[1]])\n",
    "            visited.append([0, current[1]])\n",
    "\n",
    "        # rule 4\n",
    "        if current[1] > y_capacity and ([x_capacity, 0] not in visited):\n",
    "            front.append([x_capacity, 0])\n",
    "            visited.append([x_capacity, 0])\n",
    "\n",
    "        # rule 5\n",
    "        #(x, y) -> (min(x + y, x_capacity), max(0, x + y - x_capacity)) if y > 0\n",
    "        if current[1] > 0 and ([min(x + y, x_capacity), max(0, x + y - x_capacity)] not in visited):\n",
    "            front.append([min(x + y, x_capacity), max(0, x + y - x_capacity)])\n",
    "            visited.append([min(x + y, x_capacity), max(0, x + y - x_capacity)])\n",
    "\n",
    "        # rule 6\n",
    "        # (x, y) -> (max(0, x + y - y_capacity), min(x + y, y_capacity)) if x > 0\n",
    "        if current[0] > 0  and ([max(0, x + y - y_capacity), min(x + y, y_capacity)] not in visited):\n",
    "            front.append([max(0, x + y - y_capacity), min(x + y, y_capacity)])\n",
    "            visited.append([max(0, x + y - y_capacity), min(x + y, y_capacity)])\n",
    "\n",
    "    return (\"Not found\")"
   ]
  },
  {
   "cell_type": "code",
   "execution_count": 76,
   "metadata": {},
   "outputs": [],
   "source": [
    "def gcd(a, b):\n",
    "    if a == 0:\n",
    "        return b\n",
    "    return gcd(b%a, a)"
   ]
  },
  {
   "cell_type": "code",
   "execution_count": 77,
   "metadata": {},
   "outputs": [
    {
     "ename": "TypeError",
     "evalue": "not all arguments converted during string formatting",
     "output_type": "error",
     "traceback": [
      "\u001b[1;31m---------------------------------------------------------------------------\u001b[0m",
      "\u001b[1;31mTypeError\u001b[0m                                 Traceback (most recent call last)",
      "\u001b[1;32m<ipython-input-77-8d6d06f39b2f>\u001b[0m in \u001b[0;36m<module>\u001b[1;34m\u001b[0m\n\u001b[0;32m      7\u001b[0m \u001b[1;31m# condition for getting a solution: the target volume 'end' should be a multiple of gcd(a,b)\u001b[0m\u001b[1;33m\u001b[0m\u001b[1;33m\u001b[0m\u001b[1;33m\u001b[0m\u001b[0m\n\u001b[0;32m      8\u001b[0m \u001b[1;33m\u001b[0m\u001b[0m\n\u001b[1;32m----> 9\u001b[1;33m \u001b[1;32mif\u001b[0m \u001b[0mend\u001b[0m \u001b[1;33m%\u001b[0m \u001b[0mgcd\u001b[0m\u001b[1;33m(\u001b[0m\u001b[0mx_capacity\u001b[0m\u001b[1;33m,\u001b[0m\u001b[0my_capacity\u001b[0m\u001b[1;33m)\u001b[0m \u001b[1;33m==\u001b[0m \u001b[1;36m0\u001b[0m\u001b[1;33m:\u001b[0m\u001b[1;33m\u001b[0m\u001b[1;33m\u001b[0m\u001b[0m\n\u001b[0m\u001b[0;32m     10\u001b[0m     \u001b[0mprint\u001b[0m \u001b[1;33m(\u001b[0m\u001b[0mbfs\u001b[0m\u001b[1;33m(\u001b[0m\u001b[0mstart\u001b[0m\u001b[1;33m,\u001b[0m \u001b[0mend\u001b[0m\u001b[1;33m,\u001b[0m \u001b[0mx_capacity\u001b[0m\u001b[1;33m,\u001b[0m \u001b[0my_capacity\u001b[0m\u001b[1;33m)\u001b[0m\u001b[1;33m)\u001b[0m\u001b[1;33m\u001b[0m\u001b[1;33m\u001b[0m\u001b[0m\n\u001b[0;32m     11\u001b[0m \u001b[1;32melse\u001b[0m\u001b[1;33m:\u001b[0m\u001b[1;33m\u001b[0m\u001b[1;33m\u001b[0m\u001b[0m\n",
      "\u001b[1;32m<ipython-input-76-996be2cd8615>\u001b[0m in \u001b[0;36mgcd\u001b[1;34m(a, b)\u001b[0m\n\u001b[0;32m      2\u001b[0m     \u001b[1;32mif\u001b[0m \u001b[0ma\u001b[0m \u001b[1;33m==\u001b[0m \u001b[1;36m0\u001b[0m\u001b[1;33m:\u001b[0m\u001b[1;33m\u001b[0m\u001b[1;33m\u001b[0m\u001b[0m\n\u001b[0;32m      3\u001b[0m         \u001b[1;32mreturn\u001b[0m \u001b[0mb\u001b[0m\u001b[1;33m\u001b[0m\u001b[1;33m\u001b[0m\u001b[0m\n\u001b[1;32m----> 4\u001b[1;33m     \u001b[1;32mreturn\u001b[0m \u001b[0mgcd\u001b[0m\u001b[1;33m(\u001b[0m\u001b[0mb\u001b[0m\u001b[1;33m%\u001b[0m\u001b[0ma\u001b[0m\u001b[1;33m,\u001b[0m \u001b[0ma\u001b[0m\u001b[1;33m)\u001b[0m\u001b[1;33m\u001b[0m\u001b[1;33m\u001b[0m\u001b[0m\n\u001b[0m",
      "\u001b[1;31mTypeError\u001b[0m: not all arguments converted during string formatting"
     ]
    }
   ],
   "source": [
    "# start state: x = 0 , y = 0\n",
    "start = [0, 0] \n",
    "#end = 2\n",
    "#x_capacity = 4\n",
    "#y_capacity = 3\n",
    "\n",
    "# condition for getting a solution: the target volume 'end' should be a multiple of gcd(a,b)\n",
    "\n",
    "if end % gcd(x_capacity,y_capacity) == 0:\n",
    "    print (bfs(start, end, x_capacity, y_capacity))\n",
    "else:\n",
    "    print (\"No solution possible for this combination.\")"
   ]
  },
  {
   "cell_type": "code",
   "execution_count": null,
   "metadata": {},
   "outputs": [],
   "source": []
  }
 ],
 "metadata": {
  "kernelspec": {
   "display_name": "Python 3",
   "language": "python",
   "name": "python3"
  },
  "language_info": {
   "codemirror_mode": {
    "name": "ipython",
    "version": 3
   },
   "file_extension": ".py",
   "mimetype": "text/x-python",
   "name": "python",
   "nbconvert_exporter": "python",
   "pygments_lexer": "ipython3",
   "version": "3.7.4"
  }
 },
 "nbformat": 4,
 "nbformat_minor": 2
}
