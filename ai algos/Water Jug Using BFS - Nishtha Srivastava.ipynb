{
 "cells": [
  {
   "cell_type": "markdown",
   "metadata": {},
   "source": [
    "# Water Jug problem using BFS By Nishtha Srivastava (A2305217321)\n",
    "\n",
    "### Ques -  WRITE A PROGRAM TO IMPLEMENT BREADTH FIRST SEARCH FOR WATER JUG PROBLEM USING PYTHON. \n",
    "\n",
    "#### Solution -\n",
    "\n",
    "Determine the path from initial state (xi, yi) to final state (xf, yf), where (xi, yi) is (0, 0) which indicates both Jugs are initially empty and (xf, yf) indicates a state which could be (0, d) or (d, 0).\n",
    "\n",
    "The operations we can perform are:\n",
    "\n",
    "1. Empty a Jug, (X, Y)->(0, Y) Empty Jug 1\n",
    "2. Fill a Jug, (0, 0)->(X, 0) Fill Jug 1\n",
    "3. Pour water from one jug to the other until one of the jugs is either empty or full, (X, Y) -> (X-d, Y+d)\n",
    "\n",
    "### Production Rules:\n",
    "\n",
    "1. (x, y) -> (a, y) if x < a\n",
    "2. (x, y) -> (x, b) if y < b\n",
    "3. (x, y) -> (0, y) if x > 0\n",
    "4. (x, y) -> (x, 0) if y > 0\n",
    "5. (x, y) -> (min(x+y, a), max(0, x+y - a)) if y > 0\n",
    "6. (x, y) -> (max(0, x+y - b), min(x+y, b)) if x > 0\n",
    "\n",
    "These production rules are used to find the neighbouring states from the current states.\n",
    "The Algorithm goes like this:\n",
    "\n",
    "1. Create an empty path list.\n",
    "2. Add start state to the front queue.\n",
    "3. Mark it visited by adding it in visited list.\n",
    "4. While front is not empty, follow the steps(4 - 6) below.\n",
    "5. Pop out a state from front and call it current.Add current to path list.\n",
    "6. Expand all it's neighbours following the production rules.\n",
    "7. If the neighbours are not in visited , then add them to visited list and also add them to the front queue.\n",
    "8. return path."
   ]
  },
  {
   "cell_type": "code",
   "execution_count": 1,
   "metadata": {},
   "outputs": [],
   "source": [
    "capacity=(8,5,3)\n",
    "x = capacity[0]\n",
    "y = capacity[1]\n",
    "z = capacity[2]\n",
    "\n",
    "#funtion to check if goal state is attained\n",
    "def goal(s):\n",
    "    if(s[0]==4 or s[1]==4):\n",
    "        return True\n",
    "    return False"
   ]
  },
  {
   "cell_type": "code",
   "execution_count": 2,
   "metadata": {},
   "outputs": [],
   "source": [
    "#dictionary to maintain parent of each node\n",
    "parent={}"
   ]
  },
  {
   "cell_type": "code",
   "execution_count": 3,
   "metadata": {},
   "outputs": [],
   "source": [
    "#list to append next state of each node\n",
    "L=[]\n",
    "def next_states2(state):\n",
    "    a = state[0]\n",
    "    b = state[1]\n",
    "    c = state[2]\n",
    "    if(a>0):\n",
    "      #empty a into b\n",
    "        if(a+b>y):\n",
    "            L.append((a-(y-b),y,c))\n",
    "            \n",
    "        else:\n",
    "            L.append((0,a+b,c))\n",
    "      #empty a into c\n",
    "        if(a+c>z):\n",
    "            L.append((a-(z-c),b,z))\n",
    "        else:\n",
    "            L.append((0,b,a+c))\n",
    "  #empty jug b\n",
    "    if(b>0):\n",
    "      #empty b into a\n",
    "        if(a+b>x):\n",
    "            L.append((x, b-(x-a), c))\n",
    "        else:\n",
    "            L.append((a+b, 0, c))\n",
    "            \n",
    "      #empty b into c\n",
    "        if(b+c>z):\n",
    "            L.append((a, 0, b+c))\n",
    "        else:\n",
    "            L.append((a, b-(z-c), z))\n",
    "  #empty jug c\n",
    "    if(c>0):\n",
    "      #empty c into a\n",
    "        if(a+c>x):\n",
    "            L.append((x, b, c-(x-a)))\n",
    "        else:\n",
    "            L.append((a+c, b, 0))\n",
    "            \n",
    "        if(b+c>y):\n",
    "            L.append((a, y, c-(y-b)))\n",
    "        else:\n",
    "            L.append((a, b+c, 0))\n",
    "            \n",
    "    return L"
   ]
  },
  {
   "cell_type": "code",
   "execution_count": 4,
   "metadata": {},
   "outputs": [],
   "source": [
    "def path(s,p):\n",
    "    if(s!=initial_state):\n",
    "        p.append(parent[s])\n",
    "        path(parent[s],p)\n",
    "        return p"
   ]
  },
  {
   "cell_type": "code",
   "execution_count": 5,
   "metadata": {},
   "outputs": [],
   "source": [
    "def bfs(state):\n",
    "    p=[]\n",
    "    q=[]\n",
    "    q.append(state)\n",
    "    visited=[]\n",
    "    while(len(q)!=0):\n",
    "        s=q.pop(0)\n",
    "        if(goal(s)):\n",
    "            p=path(s,p)\n",
    "            for e in reversed(p):\n",
    "                print(e)\n",
    "            print(s,'\\n\\n')\n",
    "            break\n",
    "        lis=next_states2(s)\n",
    "        for i in lis:\n",
    "            if(i not in visited and i not in parent.values()):\n",
    "                visited.append(i)\n",
    "                q.append(i)\n",
    "                parent[i]=s"
   ]
  },
  {
   "cell_type": "code",
   "execution_count": 6,
   "metadata": {},
   "outputs": [
    {
     "name": "stdout",
     "output_type": "stream",
     "text": [
      "(8, 0, 0)\n",
      "(5, 0, 3)\n",
      "(5, 3, 0)\n",
      "(2, 3, 3)\n",
      "(2, 5, 1)\n",
      "(7, 0, 1)\n",
      "(7, 1, 0)\n",
      "(4, 1, 3) \n",
      "\n",
      "\n"
     ]
    }
   ],
   "source": [
    "initial_state = (8,0,0)\n",
    "bfs(initial_state)"
   ]
  },
  {
   "cell_type": "code",
   "execution_count": null,
   "metadata": {},
   "outputs": [],
   "source": []
  }
 ],
 "metadata": {
  "kernelspec": {
   "display_name": "Python 3",
   "language": "python",
   "name": "python3"
  },
  "language_info": {
   "codemirror_mode": {
    "name": "ipython",
    "version": 3
   },
   "file_extension": ".py",
   "mimetype": "text/x-python",
   "name": "python",
   "nbconvert_exporter": "python",
   "pygments_lexer": "ipython3",
   "version": "3.7.4"
  }
 },
 "nbformat": 4,
 "nbformat_minor": 2
}
