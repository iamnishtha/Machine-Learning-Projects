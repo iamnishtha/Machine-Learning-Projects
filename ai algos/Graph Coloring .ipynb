{
 "cells": [
  {
   "cell_type": "markdown",
   "metadata": {},
   "source": [
    "# Method 2 : Backtracking.\n",
    "\n",
    "### Approach: \n",
    "\n",
    "The idea is to assign colors one by one to different vertices, starting from the vertex 0. Before assigning a color, check for safety by considering already assigned colors to the adjacent vertices i.e check if the adjacent vertices have the same color or not. If there is any color assignment that does not violate the conditions, mark the color assignment as part of the solution. If no assignment of color is possible then backtrack and return false.\n",
    "\n",
    "### Algorithm: \n",
    "\n",
    "1. Create a recursive function that takes the graph, current index, number of vertices and output color array.\n",
    "\n",
    "2. If the current index is equal to number of vertices. Print the color configuration in output array.\n",
    "\n",
    "3. Assign color to a vertex (1 to m).\n",
    "\n",
    "4. For every assigned color, check if the configuration is safe, (i.e. check if the adjacent vertices do not have the same color) recursively call the function with next index and number of vertices\n",
    "\n",
    "5. If any recursive function returns true break the loop and return true.\n",
    "\n",
    "6. If no recusive function returns true then return false."
   ]
  },
  {
   "cell_type": "code",
   "execution_count": 7,
   "metadata": {},
   "outputs": [],
   "source": [
    "# Python program for solution of M Coloring \n",
    "# problem using backtracking\n",
    " \n",
    "class Graph():\n",
    " \n",
    "    def __init__(self, vertices):\n",
    "        self.V = vertices\n",
    "        self.graph = [[0 for column in range(vertices)]\\\n",
    "                              for row in range(vertices)]\n",
    " \n",
    "    # A utility function to check \n",
    "    # if the current color assignment\n",
    "    # is safe for vertex v\n",
    "    def isSafe(self, v, colour, c):\n",
    "        for i in range(self.V):\n",
    "            if self.graph[v][i] == 1 and colour[i] == c:\n",
    "                return False\n",
    "        return True\n",
    "     \n",
    "    # A recursive utility function to solve m\n",
    "    # coloring  problem\n",
    "    def graphColourUtil(self, m, colour, v):\n",
    "        if v == self.V:\n",
    "            return True\n",
    " \n",
    "        for c in range(1, m + 1):\n",
    "            if self.isSafe(v, colour, c) == True:\n",
    "                colour[v] = c\n",
    "                if self.graphColourUtil(m, colour, v + 1) == True:\n",
    "                    return True\n",
    "                colour[v] = 0\n",
    " \n",
    "    def graphColouring(self, m):\n",
    "        colour = [0] * self.V\n",
    "        if self.graphColourUtil(m, colour, 0) == None:\n",
    "            return False\n",
    " \n",
    "        # Print the solution\n",
    "        print (\"Solution exists and Following are the assigned colours:\")\n",
    "        for c in colour:\n",
    "            print (c)\n",
    "        return True"
   ]
  },
  {
   "cell_type": "code",
   "execution_count": 8,
   "metadata": {},
   "outputs": [
    {
     "name": "stdout",
     "output_type": "stream",
     "text": [
      "Solution exists and Following are the assigned colours:\n",
      "1\n",
      "2\n",
      "3\n",
      "2\n"
     ]
    },
    {
     "data": {
      "text/plain": [
       "True"
      ]
     },
     "execution_count": 8,
     "metadata": {},
     "output_type": "execute_result"
    }
   ],
   "source": [
    "# Driver Code\n",
    "g = Graph(4)\n",
    "g.graph = [[0, 1, 1, 1], [1, 0, 1, 0], [1, 1, 0, 1], [1, 0, 1, 0]]\n",
    "m = 3\n",
    "g.graphColouring(m)"
   ]
  },
  {
   "cell_type": "markdown",
   "metadata": {},
   "source": [
    "# Method 1: Naive\n",
    "\n",
    "### Naive Approach: \n",
    "\n",
    "1. Generate all possible configurations of colours. Since each node can be coloured using any of the m available colours, the total number of colour configurations possible are m^V. \n",
    "2. After generating a configuration of colour, check if the adjacent vertices have the same colour or not. If the conditions are met, print the combination and break the loop.\n",
    "\n",
    "### Algorithm: \n",
    "\n",
    "1. Create a recursive function that takes current index, number of vertices and output color array.\n",
    "2. If the current index is equal to number of vertices. Check if the output color configuration is safe, i.e check if the adjacent vertices does not have same color. If the conditions are met, print the configuration and break.\n",
    "3. Assign color to a vertex (1 to m).\n",
    "4. For every assigned color recursively call the function with next index and number of vertices\n",
    "5. If any recursive function returns true break the loop and return true."
   ]
  },
  {
   "cell_type": "code",
   "execution_count": 21,
   "metadata": {},
   "outputs": [],
   "source": [
    "def color_nodes(graph): \n",
    "\n",
    "  # Order nodes in descending degree \n",
    "\n",
    "  nodes = sorted(list(graph.keys()), key=lambda x: len(graph[x]), reverse=True) \n",
    "\n",
    "  color_map = {}\n",
    "\n",
    "  for node in nodes: \n",
    "\n",
    "    available_colors = [True] * len(nodes) \n",
    "\n",
    "    for neighbor in graph[node]: \n",
    "\n",
    "      if neighbor in color_map: \n",
    "\n",
    "        color = color_map[neighbor] \n",
    "\n",
    "        available_colors[color] = False \n",
    "\n",
    "    for color, available in enumerate(available_colors): \n",
    "\n",
    "      if available: \n",
    "\n",
    "        color_map[node] = color \n",
    "\n",
    "        break \n",
    "\n",
    "  return color_map "
   ]
  },
  {
   "cell_type": "code",
   "execution_count": 18,
   "metadata": {},
   "outputs": [
    {
     "name": "stdout",
     "output_type": "stream",
     "text": [
      "{'c': 0, 'a': 1, 'd': 2, 'e': 1, 'b': 2, 'f': 2}\n"
     ]
    }
   ],
   "source": [
    "if __name__ == '__main__': \n",
    "\n",
    "  graph = { \n",
    "\n",
    "    'a': list('bcd'), \n",
    "\n",
    "    'b': list('ac'), \n",
    "\n",
    "    'c': list('abdef'), \n",
    "\n",
    "    'd': list('ace'), \n",
    "\n",
    "    'e': list('cdf'), \n",
    "\n",
    "    'f': list('ce') \n",
    "\n",
    "  } \n",
    "\n",
    "  print(color_nodes(graph)) "
   ]
  },
  {
   "cell_type": "code",
   "execution_count": null,
   "metadata": {},
   "outputs": [],
   "source": []
  }
 ],
 "metadata": {
  "kernelspec": {
   "display_name": "Python 3",
   "language": "python",
   "name": "python3"
  },
  "language_info": {
   "codemirror_mode": {
    "name": "ipython",
    "version": 3
   },
   "file_extension": ".py",
   "mimetype": "text/x-python",
   "name": "python",
   "nbconvert_exporter": "python",
   "pygments_lexer": "ipython3",
   "version": "3.7.4"
  }
 },
 "nbformat": 4,
 "nbformat_minor": 2
}
