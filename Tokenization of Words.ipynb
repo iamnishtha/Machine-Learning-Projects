{
 "cells": [
  {
   "cell_type": "code",
   "execution_count": 6,
   "metadata": {},
   "outputs": [
    {
     "name": "stderr",
     "output_type": "stream",
     "text": [
      "[nltk_data] Downloading package punkt to C:\\Users\\Nishtha\n",
      "[nltk_data]     Srivastava\\AppData\\Roaming\\nltk_data...\n",
      "[nltk_data]   Unzipping tokenizers\\punkt.zip.\n"
     ]
    },
    {
     "data": {
      "text/plain": [
       "True"
      ]
     },
     "execution_count": 6,
     "metadata": {},
     "output_type": "execute_result"
    }
   ],
   "source": [
    "import nltk\n",
    "nltk.download('punkt')"
   ]
  },
  {
   "cell_type": "code",
   "execution_count": 8,
   "metadata": {},
   "outputs": [],
   "source": [
    "from nltk.tokenize import sent_tokenize, word_tokenize "
   ]
  },
  {
   "cell_type": "code",
   "execution_count": 9,
   "metadata": {},
   "outputs": [],
   "source": [
    "from nltk.tokenize import WordPunctTokenizer  "
   ]
  },
  {
   "cell_type": "code",
   "execution_count": 10,
   "metadata": {},
   "outputs": [
    {
     "name": "stdout",
     "output_type": "stream",
     "text": [
      "word tokenization:\n",
      "['The', 'price', 'of', 'pizza', 'in', 'pizzahut', 'is', 'Rs.360', '.']\n",
      "\n",
      "\n",
      "sentence tokenization:  \n",
      "['The price of pizza in pizzahut is Rs.360.', 'Pepsi is rs.60']\n",
      "\n",
      "\n",
      "punct tokenization:  \n",
      "['The', 'price', 'of', 'pizza', 'in', 'pizzahut', 'is', 'Rs', '.', '360', '.']\n",
      "\n",
      "\n"
     ]
    }
   ],
   "source": [
    "print(\"word tokenization:\") \n",
    "text = \"The price\\t of pizza \\nin pizzahut is Rs.360.\\n\" \n",
    "print(word_tokenize(text)) \n",
    "print(\"\\n\") \n",
    "print(\"sentence tokenization:  \") \n",
    "text = \"The price of pizza in pizzahut is Rs.360. Pepsi is rs.60\" \n",
    "print(sent_tokenize(text)) \n",
    "print(\"\\n\") \n",
    "print(\"punct tokenization:  \") \n",
    "text = \"The price\\t of pizza \\nin pizzahut is Rs.360.\\n\" \n",
    "tk = WordPunctTokenizer() \n",
    "print(tk.tokenize(text)) \n",
    "print(\"\\n\") "
   ]
  },
  {
   "cell_type": "code",
   "execution_count": null,
   "metadata": {},
   "outputs": [],
   "source": []
  }
 ],
 "metadata": {
  "kernelspec": {
   "display_name": "Python 3",
   "language": "python",
   "name": "python3"
  },
  "language_info": {
   "codemirror_mode": {
    "name": "ipython",
    "version": 3
   },
   "file_extension": ".py",
   "mimetype": "text/x-python",
   "name": "python",
   "nbconvert_exporter": "python",
   "pygments_lexer": "ipython3",
   "version": "3.7.4"
  }
 },
 "nbformat": 4,
 "nbformat_minor": 2
}
