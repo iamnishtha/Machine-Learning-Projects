{
 "cells": [
  {
   "cell_type": "code",
   "execution_count": 16,
   "metadata": {},
   "outputs": [],
   "source": [
    "import queue as queue\n",
    "\n",
    "\n",
    "def greedy_best_first_search(start_node, dest_node):\n",
    "    expanded_nodes = []  # to compare it with other algorithms\n",
    "    visited_nodes_queue = queue.PriorityQueue()  # to sort them base on their heuristic\n",
    "    maximum_memory_usage = 0  # to compare it with other algorithms\n",
    "    expanded_nodes.append(start_node)\n",
    "    start_node.visited = True\n",
    "    current_node = start_node\n",
    "    while True:\n",
    "        # check if we reach to dest or not\n",
    "        if dest_node.visited:\n",
    "            break\n",
    "        for x in current_node.children:\n",
    "            if not x.visited:\n",
    "                x.visited = True\n",
    "                x.parent = current_node\n",
    "                # x's cost from origin = parent's costFromOrigin from origin + distance between'em\n",
    "                x.costFromOrigin = current_node.costFromOrigin + current_node.children[x]\n",
    "                visited_nodes_queue.put((x.heuristic, x))\n",
    "        maximum_memory_usage = max(maximum_memory_usage, visited_nodes_queue.qsize())\n",
    "        current_node = visited_nodes_queue.get(0)[1]\n",
    "        expanded_nodes.append(current_node)\n",
    "    return expanded_nodes.__len__(), visited_nodes_queue.qsize(), maximum_memory_usage\n",
    "\n",
    "\n",
    "# won't check if they're visited or not\n",
    "def tree_greedy_best_first_search(start_node, dest_node):\n",
    "    expanded_nodes = []  # to compare it with other algorithms\n",
    "    visited_nodes_queue = queue.PriorityQueue()  # to sort them base on their heuristic to get next best node to visit\n",
    "    maximum_memory_usage = 0  # to compare it with other algorithms\n",
    "    expanded_nodes.append(start_node)\n",
    "    current_node = start_node\n",
    "    while True:\n",
    "        if expanded_nodes.__contains__(dest_node):\n",
    "            break\n",
    "        for x in current_node.children:\n",
    "            x.parent = current_node\n",
    "            visited_nodes_queue.put((x.heuristic, x))\n",
    "        maximum_memory_usage = max(maximum_memory_usage, visited_nodes_queue.qsize())\n",
    "        current_node = visited_nodes_queue.get(0)[1]\n",
    "        expanded_nodes.append(current_node)\n",
    "    return expanded_nodes.__len__(), visited_nodes_queue.qsize(), maximum_memory_usage"
   ]
  },
  {
   "cell_type": "code",
   "execution_count": 18,
   "metadata": {},
   "outputs": [],
   "source": [
    "class Tree(object):\n",
    "    \"Generic tree node.\"\n",
    "    def __init__(self, name='root', children=None):\n",
    "        self.name = name\n",
    "        self.children = []\n",
    "        if children is not None:\n",
    "            for child in children:\n",
    "                self.add_child(child)\n",
    "    def __repr__(self):\n",
    "        return self.name\n",
    "    def add_child(self, node):\n",
    "        assert isinstance(node, Tree)\n",
    "        self.children.append(node)"
   ]
  },
  {
   "cell_type": "code",
   "execution_count": null,
   "metadata": {},
   "outputs": [],
   "source": []
  }
 ],
 "metadata": {
  "kernelspec": {
   "display_name": "Python 3",
   "language": "python",
   "name": "python3"
  },
  "language_info": {
   "codemirror_mode": {
    "name": "ipython",
    "version": 3
   },
   "file_extension": ".py",
   "mimetype": "text/x-python",
   "name": "python",
   "nbconvert_exporter": "python",
   "pygments_lexer": "ipython3",
   "version": "3.7.4"
  }
 },
 "nbformat": 4,
 "nbformat_minor": 2
}
