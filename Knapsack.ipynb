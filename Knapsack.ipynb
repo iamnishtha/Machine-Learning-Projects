{
 "cells": [
  {
   "cell_type": "code",
   "execution_count": 1,
   "metadata": {},
   "outputs": [],
   "source": [
    "#Returns the maximum value that can be stored by the bag\n",
    "def knapSack(W, wt, val, n):\n",
    "   # initial conditions\n",
    "   if n == 0 or W == 0 :\n",
    "      return 0\n",
    "   # If weight is higher than capacity then it is not included\n",
    "   if (wt[n-1] > W):\n",
    "      return knapSack(W, wt, val, n-1)\n",
    "   # return either nth item being included or not\n",
    "   else:\n",
    "      return max(val[n-1] + knapSack(W-wt[n-1], wt, val, n-1),\n",
    "         knapSack(W, wt, val, n-1))"
   ]
  },
  {
   "cell_type": "code",
   "execution_count": 2,
   "metadata": {},
   "outputs": [
    {
     "name": "stdout",
     "output_type": "stream",
     "text": [
      "350\n"
     ]
    }
   ],
   "source": [
    "# To test above function\n",
    "val = [50,100,150,200]\n",
    "wt = [8,16,32,40]\n",
    "W = 64\n",
    "n = len(val)\n",
    "print (knapSack(W, wt, val, n))"
   ]
  },
  {
   "cell_type": "code",
   "execution_count": 3,
   "metadata": {},
   "outputs": [
    {
     "name": "stdout",
     "output_type": "stream",
     "text": [
      "350\n"
     ]
    }
   ],
   "source": [
    "# a dynamic approach\n",
    "# Returns the maximum value that can be stored by the bag\n",
    "def knapSack(W, wt, val, n):\n",
    "   K = [[0 for x in range(W + 1)] for x in range(n + 1)]\n",
    "   #Table in bottom up manner\n",
    "   for i in range(n + 1):\n",
    "      for w in range(W + 1):\n",
    "         if i == 0 or w == 0:\n",
    "            K[i][w] = 0\n",
    "         elif wt[i-1] <= w:\n",
    "            K[i][w] = max(val[i-1] + K[i-1][w-wt[i-1]], K[i-1][w])\n",
    "         else:\n",
    "            K[i][w] = K[i-1][w]\n",
    "   return K[n][W]\n",
    "#Main\n",
    "val = [50,100,150,200]\n",
    "wt = [8,16,32,40]\n",
    "W = 64\n",
    "n = len(val)\n",
    "print(knapSack(W, wt, val, n))"
   ]
  },
  {
   "cell_type": "code",
   "execution_count": null,
   "metadata": {},
   "outputs": [],
   "source": []
  }
 ],
 "metadata": {
  "kernelspec": {
   "display_name": "Python 3",
   "language": "python",
   "name": "python3"
  },
  "language_info": {
   "codemirror_mode": {
    "name": "ipython",
    "version": 3
   },
   "file_extension": ".py",
   "mimetype": "text/x-python",
   "name": "python",
   "nbconvert_exporter": "python",
   "pygments_lexer": "ipython3",
   "version": "3.7.4"
  }
 },
 "nbformat": 4,
 "nbformat_minor": 2
}
