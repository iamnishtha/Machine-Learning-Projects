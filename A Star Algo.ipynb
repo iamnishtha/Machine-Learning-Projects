{
 "cells": [
  {
   "cell_type": "markdown",
   "metadata": {},
   "source": [
    "### A* Algorithm\n",
    "#### Used to find the shortest path between the initial and final point, example, maps, graph traversal"
   ]
  },
  {
   "cell_type": "markdown",
   "metadata": {},
   "source": [
    "#### A* algorithm has 3 parameters:"
   ]
  },
  {
   "cell_type": "markdown",
   "metadata": {},
   "source": [
    "g : the cost of moving from the initial cell to the current cell. Basically, it is the sum of all the cells that have been visited since leaving the first cell."
   ]
  },
  {
   "cell_type": "markdown",
   "metadata": {},
   "source": [
    "h : also known as the heuristic value, it is the estimated cost of moving from the current cell to the final cell. The actual cost cannot be calculated until the final cell is reached. Hence, h is the estimated cost. We must make sure that there is never an over estimation of the cost."
   ]
  },
  {
   "cell_type": "markdown",
   "metadata": {},
   "source": [
    "f : it is the sum of g and h. So, f = g + h"
   ]
  },
  {
   "cell_type": "markdown",
   "metadata": {},
   "source": [
    "#### The algorithm selects the smallest f-valued cell and moves to that cell. This process continues until the algorithm reaches its goal cell."
   ]
  },
  {
   "cell_type": "code",
   "execution_count": null,
   "metadata": {},
   "outputs": [],
   "source": [
    "#Graph Description  \n",
    "Graph_nodes = {\n",
    "    'A': [('B', 2), ('E', 3)],\n",
    "    'B': [('C', 1),('G', 9)],\n",
    "    'C': None,\n",
    "    'E': [('D', 6)],\n",
    "    'D': [('G', 1)],\n",
    "    \n",
    "}"
   ]
  },
  {
   "cell_type": "code",
   "execution_count": 2,
   "metadata": {},
   "outputs": [],
   "source": [
    "#Heuristic Value Calculation\n",
    "def heuristic(n):\n",
    "        H_dist = {\n",
    "            'A': 11,\n",
    "            'B': 6,\n",
    "            'C': 99,\n",
    "            'D': 1,\n",
    "            'E': 7,\n",
    "            'G': 0,\n",
    "            \n",
    "        }\n",
    "\n",
    "        return H_dist[n]"
   ]
  },
  {
   "cell_type": "code",
   "execution_count": 3,
   "metadata": {},
   "outputs": [],
   "source": [
    "#define fuction to return neighbor and its distance\n",
    "#from the passed node\n",
    "def get_neighbors(v):\n",
    "    if v in Graph_nodes:\n",
    "        return Graph_nodes[v]\n",
    "    else:\n",
    "        return None"
   ]
  },
  {
   "cell_type": "code",
   "execution_count": 4,
   "metadata": {},
   "outputs": [],
   "source": [
    "def astr(start_node, stop_node):\n",
    "        \n",
    "        open_set = set(start_node) \n",
    "        closed_set = set()\n",
    "        g = {} #store distance from starting node\n",
    "        parents = {}# parents contains an adjacency map of all nodes\n",
    "\n",
    "        #ditance of starting node from itself is zero\n",
    "        g[start_node] = 0 \n",
    "        #start_node is root node i.e it has no parent nodes\n",
    "        #so start_node is set to its own parent node\n",
    "        parents[start_node] = start_node\n",
    "        \n",
    "        \n",
    "        while len(open_set) > 0:\n",
    "            n = None \n",
    "\n",
    "            #node with lowest f() is found\n",
    "            for v in open_set:\n",
    "                if n == None or g[v] + heuristic(v) < g[n] + heuristic(n):\n",
    "                    n = v\n",
    "            \n",
    "                    \n",
    "            if n == stop_node or Graph_nodes[n] == None:\n",
    "                pass\n",
    "            else:\n",
    "                for (m, weight) in get_neighbors(n):\n",
    "                    #nodes 'm' not in first and last set are added to first\n",
    "                    #n is set its parent\n",
    "                    if m not in open_set and m not in closed_set:\n",
    "                        open_set.add(m)\n",
    "                        parents[m] = n\n",
    "                        g[m] = g[n] + weight\n",
    "                        \n",
    "    \n",
    "                    #for each node m,compare its distance from start i.e g(m) to the\n",
    "                    #from start through n node\n",
    "                    else:\n",
    "                        if g[m] > g[n] + weight:\n",
    "                            #update g(m)\n",
    "                            g[m] = g[n] + weight\n",
    "                            #change parent of m to n\n",
    "                            parents[m] = n\n",
    "                            \n",
    "                            #if m in closed set,remove and add to open\n",
    "                            if m in closed_set:\n",
    "                                closed_set.remove(m)\n",
    "                                open_set.add(m)\n",
    "\n",
    "            if n == None:\n",
    "                print('Path does not exist!')\n",
    "                return None\n",
    "\n",
    "            # if the current node is the stop_node\n",
    "            # then we begin reconstructin the path from it to the start_node\n",
    "            if n == stop_node:\n",
    "                path = []\n",
    "\n",
    "                while parents[n] != n:\n",
    "                    path.append(n)\n",
    "                    n = parents[n]\n",
    "\n",
    "                path.append(start_node)\n",
    "\n",
    "                path.reverse()\n",
    "\n",
    "                print('Path found: {}'.format(path))\n",
    "                return path\n",
    "\n",
    "\n",
    "            # remove n from the open_list, and add it to closed_list\n",
    "            # because all of his neighbors were inspected\n",
    "            open_set.remove(n)\n",
    "            closed_set.add(n)\n",
    "\n",
    "        print('Path does not exist!')\n",
    "        return None"
   ]
  },
  {
   "cell_type": "code",
   "execution_count": 5,
   "metadata": {},
   "outputs": [
    {
     "name": "stdout",
     "output_type": "stream",
     "text": [
      "Path found: ['A', 'E', 'D', 'G']\n"
     ]
    },
    {
     "data": {
      "text/plain": [
       "['A', 'E', 'D', 'G']"
      ]
     },
     "execution_count": 5,
     "metadata": {},
     "output_type": "execute_result"
    }
   ],
   "source": [
    "search('A', 'G')"
   ]
  },
  {
   "cell_type": "code",
   "execution_count": null,
   "metadata": {},
   "outputs": [],
   "source": []
  }
 ],
 "metadata": {
  "kernelspec": {
   "display_name": "Python 3",
   "language": "python",
   "name": "python3"
  },
  "language_info": {
   "codemirror_mode": {
    "name": "ipython",
    "version": 3
   },
   "file_extension": ".py",
   "mimetype": "text/x-python",
   "name": "python",
   "nbconvert_exporter": "python",
   "pygments_lexer": "ipython3",
   "version": "3.7.4"
  }
 },
 "nbformat": 4,
 "nbformat_minor": 2
}
