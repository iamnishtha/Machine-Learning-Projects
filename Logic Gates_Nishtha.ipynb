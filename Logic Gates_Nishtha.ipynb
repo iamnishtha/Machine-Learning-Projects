{
 "cells": [
  {
   "cell_type": "markdown",
   "metadata": {},
   "source": [
    "# OR Gate"
   ]
  },
  {
   "cell_type": "code",
   "execution_count": 1,
   "metadata": {},
   "outputs": [
    {
     "name": "stdout",
     "output_type": "stream",
     "text": [
      "False\n",
      "+---------------+----------------+\n",
      " | OR Truth Table | Result |\n",
      " A = False, B = False| A OR B = False  | \n",
      " A = False, B = True | A OR B = True   | \n",
      " A = True, B = False | A OR B = True   | \n",
      " A = True, B = True  | A OR B = True   | \n"
     ]
    }
   ],
   "source": [
    "\n",
    "def OR(a, b):\n",
    "    if a == 1:\n",
    "        return True\n",
    "    elif b == 1:\n",
    "        return True\n",
    "    else:\n",
    "        return False\n",
    "\n",
    "# Driver code\n",
    "if __name__=='__main__':\n",
    "    print(OR(0, 0))\n",
    "\n",
    "    print(\"+---------------+----------------+\")\n",
    "    print(\" | OR Truth Table | Result |\")\n",
    "    print(\" A = False, B = False| A OR B =\",OR(False,False),\" | \")\n",
    "    print(\" A = False, B = True | A OR B =\",OR(False,True),\"  | \")\n",
    "    print(\" A = True, B = False | A OR B =\",OR(True,False),\"  | \")\n",
    "    print(\" A = True, B = True  | A OR B =\",OR(True,True),\"  | \")\n"
   ]
  },
  {
   "cell_type": "markdown",
   "metadata": {},
   "source": [
    "# AND Gate"
   ]
  },
  {
   "cell_type": "code",
   "execution_count": 2,
   "metadata": {},
   "outputs": [
    {
     "name": "stdout",
     "output_type": "stream",
     "text": [
      "True\n",
      "+---------------+----------------+\n",
      " | AND Truth Table | Result |\n",
      " A = False, B = False | A AND B = False  | \n",
      " A = False, B = True  | A AND B = False  | \n",
      " A = True, B = False  | A AND B = False  | \n",
      " A = True, B = True   | A AND B = True   | \n"
     ]
    }
   ],
   "source": [
    "def AND (a, b):\n",
    " \n",
    "    if a == 1 and b == 1:\n",
    "        return True\n",
    "    else:\n",
    "        return False\n",
    " \n",
    " #Driver Code\n",
    "if __name__=='__main__':\n",
    "    print(AND(1, 1))\n",
    " \n",
    "    print(\"+---------------+----------------+\")\n",
    "    print(\" | AND Truth Table | Result |\")\n",
    "    print(\" A = False, B = False | A AND B =\",AND(False,False),\" | \")\n",
    "    print(\" A = False, B = True  | A AND B =\",AND(False,True),\" | \")\n",
    "    print(\" A = True, B = False  | A AND B =\",AND(True,False),\" | \")\n",
    "    print(\" A = True, B = True   | A AND B =\",AND(True,True),\"  | \")\n"
   ]
  },
  {
   "cell_type": "markdown",
   "metadata": {},
   "source": [
    "# NOT Gate"
   ]
  },
  {
   "cell_type": "code",
   "execution_count": 3,
   "metadata": {},
   "outputs": [
    {
     "name": "stdout",
     "output_type": "stream",
     "text": [
      "1\n",
      "+---------------+----------------+\n",
      " | NOT Truth Table | Result |\n",
      " A = False | A NOT = 1  | \n",
      " A = True, | A NOT = 0  | \n"
     ]
    }
   ],
   "source": [
    "# Python3 program to illustrate\n",
    "# working of Not gate\n",
    "\n",
    "def NOT(a):\n",
    "    if(a == 0):\n",
    "        return 1\n",
    "    elif(a == 1):\n",
    "        return 0\n",
    "# Driver code\n",
    "if __name__=='__main__':\n",
    "    print(NOT(0))\n",
    "\n",
    "    print(\"+---------------+----------------+\")\n",
    "    print(\" | NOT Truth Table | Result |\")\n",
    "    print(\" A = False | A NOT =\",NOT(False),\" | \")\n",
    "    print(\" A = True, | A NOT =\",NOT(True),\" | \")"
   ]
  },
  {
   "cell_type": "markdown",
   "metadata": {},
   "source": [
    "# NAND Gate"
   ]
  },
  {
   "cell_type": "code",
   "execution_count": 4,
   "metadata": {},
   "outputs": [
    {
     "name": "stdout",
     "output_type": "stream",
     "text": [
      "True\n",
      "+---------------+----------------+\n",
      " | NAND Truth Table | Result |\n",
      " A = False, B = False| A AND B = True  | \n",
      " A = False, B = True | A AND B = True  | \n",
      " A = True, B = False | A AND B = True  | \n",
      " A = True, B = True  | A AND B = False | \n"
     ]
    }
   ],
   "source": [
    "# Python3 program to illustrate\n",
    "# working of NAND gate\n",
    " \n",
    "def NAND (a, b):\n",
    "    if a == 1 and b == 1:\n",
    "        return False\n",
    "    else:\n",
    "        return True\n",
    " \n",
    " #Driver Code\n",
    "if __name__=='__main__':\n",
    "    print(NAND(1, 0))\n",
    " \n",
    "    print(\"+---------------+----------------+\")\n",
    "    print(\" | NAND Truth Table | Result |\")\n",
    "    print(\" A = False, B = False| A AND B =\",NAND(False,False),\" | \")\n",
    "    print(\" A = False, B = True | A AND B =\",NAND(False,True),\" | \")\n",
    "    print(\" A = True, B = False | A AND B =\",NAND(True,False),\" | \")\n",
    "    print(\" A = True, B = True  | A AND B =\",NAND(True,True),\"| \")\n"
   ]
  },
  {
   "cell_type": "markdown",
   "metadata": {},
   "source": [
    "# NOR Gate"
   ]
  },
  {
   "cell_type": "code",
   "execution_count": 5,
   "metadata": {},
   "outputs": [
    {
     "name": "stdout",
     "output_type": "stream",
     "text": [
      "1\n",
      "+---------------+----------------+\n",
      " | NOR Truth Table | Result |\n",
      " A = False, B = False| A NOR B = 1  | \n",
      " A = False, B = True | A NOR B = 0  | \n",
      " A = True, B = False | A NOR B = 0  | \n",
      " A = True, B = True  | A NOR B = 0  | \n"
     ]
    }
   ],
   "source": [
    "# Python3 program to illustrate\n",
    "# working of NOR gate\n",
    " \n",
    "def NOR(a, b):\n",
    "    if(a == 0) and (b == 0):\n",
    "        return 1\n",
    "    elif(a == 0) and (b == 1):\n",
    "        return 0\n",
    "    elif(a == 1) and (b == 0):\n",
    "        return 0\n",
    "    elif(a == 1) and (b == 1):\n",
    "        return 0\n",
    " \n",
    " # Driver code \n",
    "if __name__=='__main__':\n",
    "    print(NOR(0, 0))\n",
    " \n",
    "    print(\"+---------------+----------------+\")\n",
    "    print(\" | NOR Truth Table | Result |\")\n",
    "    print(\" A = False, B = False| A NOR B =\",NOR(False,False),\" | \")\n",
    "    print(\" A = False, B = True | A NOR B =\",NOR(False,True),\" | \")\n",
    "    print(\" A = True, B = False | A NOR B =\",NOR(True,False),\" | \")\n",
    "    print(\" A = True, B = True  | A NOR B =\",NOR(True,True),\" | \")"
   ]
  },
  {
   "cell_type": "markdown",
   "metadata": {},
   "source": [
    "# XNOR Gate"
   ]
  },
  {
   "cell_type": "code",
   "execution_count": 6,
   "metadata": {},
   "outputs": [
    {
     "name": "stdout",
     "output_type": "stream",
     "text": [
      "1\n",
      "+---------------+----------------+\n",
      " | XNOR Truth Table | Result |\n",
      " A = False, B = False | A XOR B = 1 | \n",
      " A = False, B = True  | A XOR B = 0 | \n",
      " A = True, B = False  | A XOR B = 0 | \n",
      " A = True, B = True   | A XOR B = 1 | \n"
     ]
    }
   ],
   "source": [
    "def XNOR (a, b):\n",
    "    if a == b:\n",
    "        return 1\n",
    "    else:\n",
    "        return 0\n",
    "\n",
    "\n",
    "if __name__=='__main__':\n",
    "    print(XNOR(5, 5))\n",
    "\n",
    "    print(\"+---------------+----------------+\")\n",
    "    print(\" | XNOR Truth Table | Result |\")\n",
    "    print(\" A = False, B = False | A XOR B =\",XNOR(False,False),\"| \")\n",
    "    print(\" A = False, B = True  | A XOR B =\",XNOR(False,True),\"| \")\n",
    "    print(\" A = True, B = False  | A XOR B =\",XNOR(True,False),\"| \")\n",
    "    print(\" A = True, B = True   | A XOR B =\",XNOR(True,True),\"| \")"
   ]
  },
  {
   "cell_type": "markdown",
   "metadata": {},
   "source": [
    "# XOR Gate"
   ]
  },
  {
   "cell_type": "code",
   "execution_count": 7,
   "metadata": {},
   "outputs": [
    {
     "name": "stdout",
     "output_type": "stream",
     "text": [
      "0\n",
      "+---------------+----------------+\n",
      " | XOR Truth Table | Result |\n",
      " A = False, B = False | A XOR B = 0 | \n",
      " A = False, B = True  | A XOR B = 1 | \n",
      " A = True, B = False  | A XOR B = 1 | \n",
      " A = True, B = True   | A XOR B = 0 | \n"
     ]
    }
   ],
   "source": [
    "def XOR (a, b):\n",
    "    if a != b:\n",
    "        return 1\n",
    "    else:\n",
    "        return 0\n",
    "\n",
    "\n",
    "if __name__=='__main__':\n",
    "    print(XOR(5, 5))\n",
    "\n",
    "    print(\"+---------------+----------------+\")\n",
    "    print(\" | XOR Truth Table | Result |\")\n",
    "    print(\" A = False, B = False | A XOR B =\",XOR(False,False),\"| \")\n",
    "    print(\" A = False, B = True  | A XOR B =\",XOR(False,True),\"| \")\n",
    "    print(\" A = True, B = False  | A XOR B =\",XOR(True,False),\"| \")\n",
    "    print(\" A = True, B = True   | A XOR B =\",XOR(True,True),\"| \")"
   ]
  }
 ],
 "metadata": {
  "kernelspec": {
   "display_name": "Python 3",
   "language": "python",
   "name": "python3"
  },
  "language_info": {
   "codemirror_mode": {
    "name": "ipython",
    "version": 3
   },
   "file_extension": ".py",
   "mimetype": "text/x-python",
   "name": "python",
   "nbconvert_exporter": "python",
   "pygments_lexer": "ipython3",
   "version": "3.7.4"
  }
 },
 "nbformat": 4,
 "nbformat_minor": 2
}
